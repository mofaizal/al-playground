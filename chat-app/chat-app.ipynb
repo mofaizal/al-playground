{
 "cells": [
  {
   "cell_type": "code",
   "execution_count": null,
   "id": "cdf66568",
   "metadata": {},
   "outputs": [],
   "source": [
    "msg = \"hellow world\"\n",
    "print(msg)"
   ]
  },
  {
   "cell_type": "code",
   "execution_count": null,
   "id": "6dec0013",
   "metadata": {},
   "outputs": [],
   "source": [
    "!python3 -m venv labenv\n",
    "# Activate the virtual environment\n",
    "%pip install --upgrade typing-extensions\n",
    "%pip install python-dotenv azure-identity azure-ai-projects azure-ai-inference"
   ]
  },
  {
   "cell_type": "code",
   "execution_count": null,
   "id": "e21fcbd7",
   "metadata": {},
   "outputs": [],
   "source": [
    "import os\n",
    "\n",
    "# Add references\n",
    "from dotenv import load_dotenv\n",
    "from azure.identity import DefaultAzureCredential\n",
    "from azure.ai.projects import AIProjectClient\n",
    "from azure.ai.inference.models import SystemMessage, UserMessage, AssistantMessage\n",
    "\n",
    "\n",
    "def main(): \n",
    "\n",
    "    # Clear the console\n",
    "    os.system('cls' if os.name=='nt' else 'clear')\n",
    "        \n",
    "    try: \n",
    "    \n",
    "        # Get configuration settings \n",
    "        load_dotenv()\n",
    "        project_connection = os.getenv(\"PROJECT_CONNECTION\")\n",
    "        model_deployment =  os.getenv(\"MODEL_DEPLOYMENT\")\n",
    "        \n",
    "        # Initialize the project client\n",
    "        projectClient = AIProjectClient.from_connection_string(\n",
    "            conn_str=project_connection,\n",
    "            credential=DefaultAzureCredential())\n",
    "\n",
    "        ## Get a chat client \n",
    "        chat = projectClient.inference.get_chat_completions_client()\n",
    "\n",
    "        ## Initialize prompt with system message\n",
    "        prompt=[\n",
    "                SystemMessage(\"You are a helpful AI assistant that answers questions.\")\n",
    "           ]\n",
    "\n",
    "        # Loop until the user types 'quit'\n",
    "        while True:\n",
    "            # Get input text\n",
    "            input_text = input(\"Enter the prompt (or type 'quit' to exit): \")\n",
    "            if input_text.lower() == \"quit\":\n",
    "                break\n",
    "            if len(input_text) == 0:\n",
    "                print(\"Please enter a prompt.\")\n",
    "                continue\n",
    "            \n",
    "            # Get a chat completion\n",
    "            prompt.append(UserMessage(input_text))\n",
    "            response = chat.complete(\n",
    "                model=model_deployment,\n",
    "                messages=prompt)\n",
    "            completion = response.choices[0].message.content\n",
    "            print(completion)\n",
    "            prompt.append(AssistantMessage(completion))\n",
    "\n",
    "    except Exception as ex:\n",
    "        print(ex)\n",
    "\n",
    "if __name__ == '__main__': \n",
    "    main()"
   ]
  }
 ],
 "metadata": {
  "kernelspec": {
   "display_name": "Python 3",
   "language": "python",
   "name": "python3"
  },
  "language_info": {
   "codemirror_mode": {
    "name": "ipython",
    "version": 3
   },
   "file_extension": ".py",
   "mimetype": "text/x-python",
   "name": "python",
   "nbconvert_exporter": "python",
   "pygments_lexer": "ipython3",
   "version": "3.8.10"
  }
 },
 "nbformat": 4,
 "nbformat_minor": 5
}
